{
 "cells": [
  {
   "cell_type": "code",
   "execution_count": 87,
   "metadata": {},
   "outputs": [],
   "source": [
    "import pandas as pd\n",
    "import numpy as np\n",
    "import os\n",
    "import matplotlib.pyplot as plt\n",
    "import seaborn as sns\n",
    "\n",
    "from sklearn.model_selection import train_test_split\n",
    "from sklearn.linear_model import LogisticRegression\n",
    "from sklearn.tree import DecisionTreeClassifier\n",
    "from sklearn.ensemble import RandomForestClassifier\n",
    "from sklearn.ensemble import GradientBoostingClassifier\n",
    "\n",
    "\n",
    "import statsmodels.api as sm\n",
    "\n",
    "## Model evaluation\n",
    "from sklearn.metrics import plot_confusion_matrix, precision_score , recall_score, f1_score , accuracy_score\n",
    "from sklearn.metrics import roc_auc_score , roc_curve\n",
    "from sklearn.model_selection import GridSearchCV\n",
    "\n",
    "%matplotlib inline\n",
    "plt.rcParams[\"font.size\"] = 15\n",
    "sns.set(style=\"white\")\n",
    "sns.set(style=\"whitegrid\", color_codes=True)\n",
    "\n",
    "import pydotplus #pip install pydotplus\n",
    "from sklearn.tree import export_graphviz\n",
    "\n",
    "def tree_graph_to_png(tree, feature_names, png_file_to_save):\n",
    "    tree_str = export_graphviz(tree, feature_names=feature_names, \n",
    "                                     filled=True, out_file=None)\n",
    "    graph = pydotplus.graph_from_dot_data(tree_str)  \n",
    "    graph.write_png(png_file_to_save)\n",
    "    \n",
    "    \n",
    "# tree_graph_to_png(tree=clf_tree, feature_names=['x1', 'x2'], \n",
    "#                   png_file_to_save='../../img/topic3_decision_tree1.png')"
   ]
  },
  {
   "cell_type": "code",
   "execution_count": 14,
   "metadata": {},
   "outputs": [],
   "source": [
    "train_LR = pd.read_csv(r\"../Data/PreparedData/train_logistic.csv\")\n",
    "test_LR = pd.read_csv(r\"../Data/PreparedData/test_logistic.csv\")"
   ]
  },
  {
   "cell_type": "code",
   "execution_count": 61,
   "metadata": {},
   "outputs": [],
   "source": [
    "submit_temp = pd.read_csv(r\"../Data/gender_submission.csv\")"
   ]
  },
  {
   "cell_type": "markdown",
   "metadata": {},
   "source": [
    "## Logistic Regression"
   ]
  },
  {
   "cell_type": "code",
   "execution_count": 15,
   "metadata": {},
   "outputs": [],
   "source": [
    "X_lr = train_LR.drop([\"Survived\"] , axis = 1)\n",
    "y_lr = train_LR[\"Survived\"]"
   ]
  },
  {
   "cell_type": "code",
   "execution_count": 27,
   "metadata": {},
   "outputs": [
    {
     "name": "stdout",
     "output_type": "stream",
     "text": [
      "Optimization terminated successfully.\n",
      "         Current function value: 0.450905\n",
      "         Iterations 9\n"
     ]
    }
   ],
   "source": [
    "logit_model = sm.Logit( y_lr, X_lr)\n",
    "results = logit_model.fit()"
   ]
  },
  {
   "cell_type": "code",
   "execution_count": 34,
   "metadata": {},
   "outputs": [
    {
     "name": "stdout",
     "output_type": "stream",
     "text": [
      "                         Results: Logit\n",
      "=================================================================\n",
      "Model:              Logit            Pseudo R-squared: 0.323     \n",
      "Dependent Variable: Survived         AIC:              817.5118  \n",
      "Date:               2020-09-25 21:52 BIC:              851.0582  \n",
      "No. Observations:   891              Log-Likelihood:   -401.76   \n",
      "Df Model:           6                LL-Null:          -593.33   \n",
      "Df Residuals:       884              LLR p-value:      1.1740e-79\n",
      "Converged:          1.0000           Scale:            1.0000    \n",
      "No. Iterations:     9.0000                                       \n",
      "------------------------------------------------------------------\n",
      "              Coef.   Std.Err.     z      P>|z|    [0.025   0.975]\n",
      "------------------------------------------------------------------\n",
      "Pclass       -0.6158    0.0873   -7.0542  0.0000  -0.7869  -0.4447\n",
      "Sex          -2.1253    0.1968  -10.8000  0.0000  -2.5110  -1.7396\n",
      "Age          -0.3413    0.1127   -3.0285  0.0025  -0.5622  -0.1204\n",
      "Fare          0.2949    0.1006    2.9307  0.0034   0.0977   0.4921\n",
      "Embarked      0.5102    0.1717    2.9719  0.0030   0.1737   0.8466\n",
      "Title         0.5708    0.0887    6.4369  0.0000   0.3970   0.7446\n",
      "IsAlone       0.8882    0.2232    3.9787  0.0001   0.4507   1.3257\n",
      "=================================================================\n",
      "\n"
     ]
    }
   ],
   "source": [
    "print(results.summary2())"
   ]
  },
  {
   "cell_type": "code",
   "execution_count": 16,
   "metadata": {},
   "outputs": [],
   "source": [
    "x_train, x_test , y_train, y_test = train_test_split(X_lr , y_lr , test_size = 0.3, random_state = 42)"
   ]
  },
  {
   "cell_type": "code",
   "execution_count": 18,
   "metadata": {},
   "outputs": [
    {
     "data": {
      "text/plain": [
       "LogisticRegression(n_jobs=-1)"
      ]
     },
     "execution_count": 18,
     "metadata": {},
     "output_type": "execute_result"
    }
   ],
   "source": [
    "LR = LogisticRegression(n_jobs= -1)\n",
    "LR.fit(x_train , y_train)"
   ]
  },
  {
   "cell_type": "code",
   "execution_count": 21,
   "metadata": {},
   "outputs": [
    {
     "data": {
      "text/plain": [
       "0.7947761194029851"
      ]
     },
     "execution_count": 21,
     "metadata": {},
     "output_type": "execute_result"
    }
   ],
   "source": [
    "accuracy_score(y_test , LR.predict(x_test))"
   ]
  },
  {
   "cell_type": "code",
   "execution_count": 22,
   "metadata": {},
   "outputs": [
    {
     "data": {
      "text/plain": [
       "0.7488584474885844"
      ]
     },
     "execution_count": 22,
     "metadata": {},
     "output_type": "execute_result"
    }
   ],
   "source": [
    "f1_score(y_test ,LR.predict(x_test) )"
   ]
  },
  {
   "cell_type": "code",
   "execution_count": 56,
   "metadata": {},
   "outputs": [
    {
     "data": {
      "text/plain": [
       "<matplotlib.legend.Legend at 0x224d3617c10>"
      ]
     },
     "execution_count": 56,
     "metadata": {},
     "output_type": "execute_result"
    },
    {
     "data": {
      "image/png": "[encoded data removed]",
      "text/plain": [
       "<Figure size 576x576 with 1 Axes>"
      ]
     },
     "metadata": {},
     "output_type": "display_data"
    }
   ],
   "source": [
    "logit_roc_auc = roc_auc_score(y_test , LR.predict(x_test))\n",
    "fpr, tpr , threshold= roc_curve(y_test , LR.predict(x_test))\n",
    "plt.figure(figsize = (8 , 8))\n",
    "plt.plot(fpr, tpr , label = f\"ROC_AUC-score -> {logit_roc_auc}\")\n",
    "plt.plot([0,1] , [0,1] , \"r--\")\n",
    "plt.xlabel(\"False Positive Rate\")\n",
    "plt.ylabel(\"True Positive Rate\")\n",
    "plt.xlim(0,1)\n",
    "plt.ylim(0, 1)\n",
    "plt.legend()"
   ]
  },
  {
   "cell_type": "code",
   "execution_count": 58,
   "metadata": {},
   "outputs": [],
   "source": [
    "## lets see predictions of our Logistic Regression\n",
    "test_pred = LR.predict(test_LR)"
   ]
  },
  {
   "cell_type": "code",
   "execution_count": 62,
   "metadata": {},
   "outputs": [
    {
     "data": {
      "text/html": [
       "<div>\n",
       "<style scoped>\n",
       "    .dataframe tbody tr th:only-of-type {\n",
       "        vertical-align: middle;\n",
       "    }\n",
       "\n",
       "    .dataframe tbody tr th {\n",
       "        vertical-align: top;\n",
       "    }\n",
       "\n",
       "    .dataframe thead th {\n",
       "        text-align: right;\n",
       "    }\n",
       "</style>\n",
       "<table border=\"1\" class=\"dataframe\">\n",
       "  <thead>\n",
       "    <tr style=\"text-align: right;\">\n",
       "      <th></th>\n",
       "      <th>PassengerId</th>\n",
       "      <th>Survived</th>\n",
       "    </tr>\n",
       "  </thead>\n",
       "  <tbody>\n",
       "    <tr>\n",
       "      <th>0</th>\n",
       "      <td>892</td>\n",
       "      <td>0</td>\n",
       "    </tr>\n",
       "    <tr>\n",
       "      <th>1</th>\n",
       "      <td>893</td>\n",
       "      <td>1</td>\n",
       "    </tr>\n",
       "    <tr>\n",
       "      <th>2</th>\n",
       "      <td>894</td>\n",
       "      <td>0</td>\n",
       "    </tr>\n",
       "    <tr>\n",
       "      <th>3</th>\n",
       "      <td>895</td>\n",
       "      <td>0</td>\n",
       "    </tr>\n",
       "    <tr>\n",
       "      <th>4</th>\n",
       "      <td>896</td>\n",
       "      <td>1</td>\n",
       "    </tr>\n",
       "  </tbody>\n",
       "</table>\n",
       "</div>"
      ],
      "text/plain": [
       "   PassengerId  Survived\n",
       "0          892         0\n",
       "1          893         1\n",
       "2          894         0\n",
       "3          895         0\n",
       "4          896         1"
      ]
     },
     "execution_count": 62,
     "metadata": {},
     "output_type": "execute_result"
    }
   ],
   "source": [
    "submit_temp.head()"
   ]
  },
  {
   "cell_type": "code",
   "execution_count": 63,
   "metadata": {},
   "outputs": [],
   "source": [
    "test_pred = pd.DataFrame({\"Survived\" : test_pred})\n",
    "submitdf = pd.concat([submit_temp[\"PassengerId\"] , test_pred] , axis = 1)"
   ]
  },
  {
   "cell_type": "code",
   "execution_count": 64,
   "metadata": {},
   "outputs": [],
   "source": [
    "submitdf.to_csv(r\"../Data/PredictedData/LR_base.csv\" , index = False)"
   ]
  },
  {
   "cell_type": "code",
   "execution_count": 65,
   "metadata": {},
   "outputs": [],
   "source": [
    "## Let's get started the party."
   ]
  },
  {
   "cell_type": "code",
   "execution_count": 70,
   "metadata": {},
   "outputs": [],
   "source": [
    "train = pd.read_csv(r\"../Data/PreparedData/train.csv\")\n",
    "test = pd.read_csv(r\"../Data/PreparedData/test.csv\")"
   ]
  },
  {
   "cell_type": "code",
   "execution_count": 73,
   "metadata": {},
   "outputs": [],
   "source": [
    "X = train.drop([\"Survived\"] , axis = 1)\n",
    "y = train[\"Survived\"]"
   ]
  },
  {
   "cell_type": "code",
   "execution_count": 74,
   "metadata": {},
   "outputs": [],
   "source": [
    "x_train , x_test , y_train ,y_test = train_test_split(X , y , test_size = 0.3 , random_state = 42)"
   ]
  },
  {
   "cell_type": "code",
   "execution_count": 66,
   "metadata": {},
   "outputs": [],
   "source": [
    "## Dtree_base"
   ]
  },
  {
   "cell_type": "code",
   "execution_count": 75,
   "metadata": {},
   "outputs": [
    {
     "data": {
      "text/plain": [
       "DecisionTreeClassifier(criterion='entropy', random_state=42)"
      ]
     },
     "execution_count": 75,
     "metadata": {},
     "output_type": "execute_result"
    }
   ],
   "source": [
    "Dtree_base = DecisionTreeClassifier(criterion = \"entropy\" , random_state = 42) \n",
    "Dtree_base.fit(x_train , y_train)"
   ]
  },
  {
   "cell_type": "code",
   "execution_count": 76,
   "metadata": {},
   "outputs": [
    {
     "data": {
      "text/plain": [
       "0.7947761194029851"
      ]
     },
     "execution_count": 76,
     "metadata": {},
     "output_type": "execute_result"
    }
   ],
   "source": [
    "accuracy_score(y_test , Dtree_base.predict(x_test))"
   ]
  },
  {
   "cell_type": "code",
   "execution_count": 77,
   "metadata": {},
   "outputs": [
    {
     "data": {
      "text/plain": [
       "0.7441860465116278"
      ]
     },
     "execution_count": 77,
     "metadata": {},
     "output_type": "execute_result"
    }
   ],
   "source": [
    "f1_score(y_test , Dtree_base.predict(x_test))"
   ]
  },
  {
   "cell_type": "markdown",
   "metadata": {},
   "source": [
    "### Dtree on test data"
   ]
  },
  {
   "cell_type": "code",
   "execution_count": 80,
   "metadata": {},
   "outputs": [],
   "source": [
    "test_pred = Dtree_base.predict(test)\n",
    "test_pred = pd.DataFrame({\"Survived\" : test_pred})\n",
    "submitdf = pd.concat([submit_temp[\"PassengerId\"] , test_pred] , axis = 1)\n",
    "submitdf.to_csv(r\"../Data/PredictedData/Dtree_base.csv\" , index = False)"
   ]
  },
  {
   "cell_type": "markdown",
   "metadata": {},
   "source": [
    "## Dtree_grid"
   ]
  },
  {
   "cell_type": "code",
   "execution_count": 83,
   "metadata": {},
   "outputs": [
    {
     "name": "stdout",
     "output_type": "stream",
     "text": [
      "Fitting 20 folds for each of 7056 candidates, totalling 141120 fits\n"
     ]
    },
    {
     "name": "stderr",
     "output_type": "stream",
     "text": [
      "[Parallel(n_jobs=-1)]: Using backend LokyBackend with 8 concurrent workers.\n",
      "[Parallel(n_jobs=-1)]: Done  25 tasks      | elapsed:    1.5s\n",
      "[Parallel(n_jobs=-1)]: Done 1072 tasks      | elapsed:    3.1s\n",
      "[Parallel(n_jobs=-1)]: Done 4320 tasks      | elapsed:    7.3s\n",
      "[Parallel(n_jobs=-1)]: Done 11280 tasks      | elapsed:   13.8s\n",
      "[Parallel(n_jobs=-1)]: Done 22960 tasks      | elapsed:   24.6s\n",
      "[Parallel(n_jobs=-1)]: Done 37200 tasks      | elapsed:   38.0s\n",
      "[Parallel(n_jobs=-1)]: Done 54064 tasks      | elapsed:   53.6s\n",
      "[Parallel(n_jobs=-1)]: Done 73488 tasks      | elapsed:  1.2min\n",
      "[Parallel(n_jobs=-1)]: Done 95536 tasks      | elapsed:  1.6min\n",
      "[Parallel(n_jobs=-1)]: Done 120144 tasks      | elapsed:  2.0min\n",
      "[Parallel(n_jobs=-1)]: Done 141120 out of 141120 | elapsed:  2.3min finished\n"
     ]
    },
    {
     "data": {
      "text/plain": [
       "GridSearchCV(cv=20, estimator=DecisionTreeClassifier(criterion='entropy'),\n",
       "             n_jobs=-1,\n",
       "             param_grid={'max_depth': range(2, 20),\n",
       "                         'max_features': range(2, 10),\n",
       "                         'min_samples_leaf': range(1, 50)},\n",
       "             verbose=2)"
      ]
     },
     "execution_count": 83,
     "metadata": {},
     "output_type": "execute_result"
    }
   ],
   "source": [
    "Dtree = DecisionTreeClassifier(criterion = \"entropy\")\n",
    "Dtree_params = {\"max_depth\" : range(2, 20) , \"max_features\" : range(2 , 10) , \"min_samples_leaf\" : range(1 , 50)}\n",
    "\n",
    "dtree_grid = GridSearchCV(Dtree , Dtree_params , cv = 20 , n_jobs = -1 , verbose = 2)\n",
    "dtree_grid.fit(x_train , y_train)"
   ]
  },
  {
   "cell_type": "code",
   "execution_count": 84,
   "metadata": {},
   "outputs": [
    {
     "data": {
      "text/plain": [
       "0.8508064516129032"
      ]
     },
     "execution_count": 84,
     "metadata": {},
     "output_type": "execute_result"
    }
   ],
   "source": [
    "dtree_grid.best_score_"
   ]
  },
  {
   "cell_type": "code",
   "execution_count": 85,
   "metadata": {},
   "outputs": [
    {
     "data": {
      "text/plain": [
       "{'max_depth': 6, 'max_features': 6, 'min_samples_leaf': 9}"
      ]
     },
     "execution_count": 85,
     "metadata": {},
     "output_type": "execute_result"
    }
   ],
   "source": [
    "dtree_grid.best_params_"
   ]
  },
  {
   "cell_type": "code",
   "execution_count": 86,
   "metadata": {},
   "outputs": [
    {
     "data": {
      "text/plain": [
       "0.8059701492537313"
      ]
     },
     "execution_count": 86,
     "metadata": {},
     "output_type": "execute_result"
    }
   ],
   "source": [
    "accuracy_score(y_test , dtree_grid.predict(x_test))"
   ]
  },
  {
   "cell_type": "code",
   "execution_count": 91,
   "metadata": {},
   "outputs": [],
   "source": [
    "tree_graph_to_png(tree=dtree_grid.best_estimator_, feature_names=X.columns ,\n",
    "                  png_file_to_save='../Tree_graph//dtree_base.png')\n"
   ]
  },
  {
   "cell_type": "markdown",
   "metadata": {},
   "source": [
    "### Dtree_grid on test_data"
   ]
  },
  {
   "cell_type": "code",
   "execution_count": 92,
   "metadata": {},
   "outputs": [],
   "source": [
    "test_pred = dtree_grid.predict(test)\n",
    "test_pred = pd.DataFrame({\"Survived\" : test_pred})\n",
    "submitdf = pd.concat([submit_temp[\"PassengerId\"] , test_pred] , axis = 1)\n",
    "submitdf.to_csv(r\"../Data/PredictedData/Dtree_grid.csv\" , index = False)"
   ]
  },
  {
   "cell_type": "code",
   "execution_count": null,
   "metadata": {},
   "outputs": [],
   "source": []
  },
  {
   "cell_type": "code",
   "execution_count": null,
   "metadata": {},
   "outputs": [],
   "source": [
    "## now apply random_Forest"
   ]
  },
  {
   "cell_type": "markdown",
   "metadata": {},
   "source": [
    "## RF_base"
   ]
  },
  {
   "cell_type": "code",
   "execution_count": 94,
   "metadata": {},
   "outputs": [
    {
     "data": {
      "text/plain": [
       "RandomForestClassifier(criterion='entropy')"
      ]
     },
     "execution_count": 94,
     "metadata": {},
     "output_type": "execute_result"
    }
   ],
   "source": [
    "RF_base = RandomForestClassifier(criterion = \"entropy\")\n",
    "RF_base.fit(x_train , y_train)"
   ]
  },
  {
   "cell_type": "code",
   "execution_count": 95,
   "metadata": {},
   "outputs": [
    {
     "data": {
      "text/plain": [
       "0.8246268656716418"
      ]
     },
     "execution_count": 95,
     "metadata": {},
     "output_type": "execute_result"
    }
   ],
   "source": [
    "accuracy_score(y_test , RF_base.predict(x_test))"
   ]
  },
  {
   "cell_type": "code",
   "execution_count": 96,
   "metadata": {},
   "outputs": [
    {
     "data": {
      "text/plain": [
       "0.7853881278538812"
      ]
     },
     "execution_count": 96,
     "metadata": {},
     "output_type": "execute_result"
    }
   ],
   "source": [
    "f1_score(y_test , RF_base.predict(x_test))"
   ]
  },
  {
   "cell_type": "code",
   "execution_count": 104,
   "metadata": {},
   "outputs": [],
   "source": [
    "test_pred = RF_base.predict(test)\n",
    "test_pred = pd.DataFrame({\"Survived\" : test_pred})\n",
    "submitdf = pd.concat([submit_temp[\"PassengerId\"] , test_pred] , axis = 1)\n",
    "submitdf.to_csv(r\"../Data/PredictedData/RF_base.csv\" , index = False)"
   ]
  },
  {
   "cell_type": "markdown",
   "metadata": {},
   "source": [
    "## RF_grid"
   ]
  },
  {
   "cell_type": "code",
   "execution_count": 97,
   "metadata": {},
   "outputs": [
    {
     "name": "stdout",
     "output_type": "stream",
     "text": [
      "Fitting 20 folds for each of 7056 candidates, totalling 141120 fits\n"
     ]
    },
    {
     "name": "stderr",
     "output_type": "stream",
     "text": [
      "[Parallel(n_jobs=-1)]: Using backend LokyBackend with 8 concurrent workers.\n",
      "[Parallel(n_jobs=-1)]: Done  25 tasks      | elapsed:    3.8s\n",
      "[Parallel(n_jobs=-1)]: Done 146 tasks      | elapsed:    7.1s\n",
      "[Parallel(n_jobs=-1)]: Done 349 tasks      | elapsed:   12.6s\n",
      "[Parallel(n_jobs=-1)]: Done 632 tasks      | elapsed:   20.4s\n",
      "[Parallel(n_jobs=-1)]: Done 997 tasks      | elapsed:   30.3s\n",
      "[Parallel(n_jobs=-1)]: Done 1442 tasks      | elapsed:   43.4s\n",
      "[Parallel(n_jobs=-1)]: Done 1969 tasks      | elapsed:   59.5s\n",
      "[Parallel(n_jobs=-1)]: Done 2576 tasks      | elapsed:  1.3min\n",
      "[Parallel(n_jobs=-1)]: Done 3265 tasks      | elapsed:  1.7min\n",
      "[Parallel(n_jobs=-1)]: Done 4034 tasks      | elapsed:  2.0min\n",
      "[Parallel(n_jobs=-1)]: Done 4885 tasks      | elapsed:  2.5min\n",
      "[Parallel(n_jobs=-1)]: Done 5816 tasks      | elapsed:  3.0min\n",
      "[Parallel(n_jobs=-1)]: Done 7738 tasks      | elapsed:  3.3min\n",
      "[Parallel(n_jobs=-1)]: Done 9924 tasks      | elapsed:  4.3min\n",
      "[Parallel(n_jobs=-1)]: Done 12274 tasks      | elapsed:  5.5min\n",
      "[Parallel(n_jobs=-1)]: Done 14784 tasks      | elapsed:  6.4min\n",
      "[Parallel(n_jobs=-1)]: Done 17458 tasks      | elapsed:  7.5min\n",
      "[Parallel(n_jobs=-1)]: Done 20292 tasks      | elapsed:  8.9min\n",
      "[Parallel(n_jobs=-1)]: Done 23290 tasks      | elapsed:  9.8min\n",
      "[Parallel(n_jobs=-1)]: Done 26448 tasks      | elapsed: 11.3min\n",
      "[Parallel(n_jobs=-1)]: Done 28349 tasks      | elapsed: 12.4min\n",
      "[Parallel(n_jobs=-1)]: Done 30740 tasks      | elapsed: 13.2min\n",
      "[Parallel(n_jobs=-1)]: Done 34386 tasks      | elapsed: 14.9min\n",
      "[Parallel(n_jobs=-1)]: Done 38192 tasks      | elapsed: 16.6min\n",
      "[Parallel(n_jobs=-1)]: Done 41009 tasks      | elapsed: 103.4min\n",
      "[Parallel(n_jobs=-1)]: Done 43074 tasks      | elapsed: 104.5min\n",
      "[Parallel(n_jobs=-1)]: Done 45322 tasks      | elapsed: 105.7min\n",
      "[Parallel(n_jobs=-1)]: Done 49776 tasks      | elapsed: 107.5min\n",
      "[Parallel(n_jobs=-1)]: Done 54394 tasks      | elapsed: 109.5min\n",
      "[Parallel(n_jobs=-1)]: Done 59172 tasks      | elapsed: 111.8min\n",
      "[Parallel(n_jobs=-1)]: Done 64114 tasks      | elapsed: 113.7min\n",
      "[Parallel(n_jobs=-1)]: Done 69216 tasks      | elapsed: 116.2min\n",
      "[Parallel(n_jobs=-1)]: Done 74482 tasks      | elapsed: 118.5min\n",
      "[Parallel(n_jobs=-1)]: Done 79908 tasks      | elapsed: 120.7min\n",
      "[Parallel(n_jobs=-1)]: Done 85498 tasks      | elapsed: 123.2min\n",
      "[Parallel(n_jobs=-1)]: Done 91248 tasks      | elapsed: 125.9min\n",
      "[Parallel(n_jobs=-1)]: Done 97162 tasks      | elapsed: 128.2min\n",
      "[Parallel(n_jobs=-1)]: Done 103028 tasks      | elapsed: 130.6min\n",
      "[Parallel(n_jobs=-1)]: Done 109266 tasks      | elapsed: 133.3min\n",
      "[Parallel(n_jobs=-1)]: Done 115664 tasks      | elapsed: 136.4min\n",
      "[Parallel(n_jobs=-1)]: Done 122226 tasks      | elapsed: 139.1min\n",
      "[Parallel(n_jobs=-1)]: Done 127490 tasks      | elapsed: 141.1min\n",
      "[Parallel(n_jobs=-1)]: Done 130933 tasks      | elapsed: 142.9min\n",
      "[Parallel(n_jobs=-1)]: Done 137312 tasks      | elapsed: 145.5min\n",
      "[Parallel(n_jobs=-1)]: Done 141120 out of 141120 | elapsed: 146.9min finished\n"
     ]
    },
    {
     "data": {
      "text/plain": [
       "GridSearchCV(cv=20,\n",
       "             estimator=RandomForestClassifier(criterion='entropy',\n",
       "                                              random_state=42),\n",
       "             n_jobs=-1,\n",
       "             param_grid={'max_depth': range(2, 20),\n",
       "                         'max_features': range(2, 10),\n",
       "                         'min_samples_leaf': range(1, 50)},\n",
       "             verbose=2)"
      ]
     },
     "execution_count": 97,
     "metadata": {},
     "output_type": "execute_result"
    }
   ],
   "source": [
    "RF = RandomForestClassifier(criterion = \"entropy\" , random_state=42)\n",
    "RF_params = {\"max_depth\" : range(2, 20) , \"max_features\" : range(2 , 10) , \"min_samples_leaf\" : range(1 , 50)}\n",
    "\n",
    "RF_grid = GridSearchCV(RF , RF_params , cv = 20 , n_jobs = -1 , verbose = 2)\n",
    "RF_grid.fit(x_train , y_train)"
   ]
  },
  {
   "cell_type": "code",
   "execution_count": 100,
   "metadata": {},
   "outputs": [
    {
     "data": {
      "text/plain": [
       "0.8208955223880597"
      ]
     },
     "execution_count": 100,
     "metadata": {},
     "output_type": "execute_result"
    }
   ],
   "source": [
    "accuracy_score(y_test , RF_grid.predict(x_test))"
   ]
  },
  {
   "cell_type": "code",
   "execution_count": 101,
   "metadata": {},
   "outputs": [
    {
     "data": {
      "text/plain": [
       "0.76"
      ]
     },
     "execution_count": 101,
     "metadata": {},
     "output_type": "execute_result"
    }
   ],
   "source": [
    "f1_score(y_test , RF_grid.predict(x_test))"
   ]
  },
  {
   "cell_type": "markdown",
   "metadata": {},
   "source": [
    "### RF_grid on test_data"
   ]
  },
  {
   "cell_type": "code",
   "execution_count": 105,
   "metadata": {},
   "outputs": [],
   "source": [
    "test_pred = RF_grid.predict(test)\n",
    "test_pred = pd.DataFrame({\"Survived\" : test_pred})\n",
    "submitdf = pd.concat([submit_temp[\"PassengerId\"] , test_pred] , axis = 1)\n",
    "submitdf.to_csv(r\"../Data/PredictedData/RF_grid.csv\" , index = False)"
   ]
  },
  {
   "cell_type": "code",
   "execution_count": null,
   "metadata": {},
   "outputs": [],
   "source": []
  }
 ],
 "metadata": {
  "kernelspec": {
   "display_name": "Python 3",
   "language": "python",
   "name": "python3"
  },
  "language_info": {
   "codemirror_mode": {
    "name": "ipython",
    "version": 3
   },
   "file_extension": ".py",
   "mimetype": "text/x-python",
   "name": "python",
   "nbconvert_exporter": "python",
   "pygments_lexer": "ipython3",
   "version": "3.8.3"
  }
 },
 "nbformat": 4,
 "nbformat_minor": 4
}
