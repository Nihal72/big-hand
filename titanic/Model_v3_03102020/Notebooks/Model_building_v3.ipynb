{
 "cells": [
  {
   "cell_type": "code",
   "execution_count": 1,
   "metadata": {},
   "outputs": [],
   "source": [
    "## In this notebook I have trained the model by finding best working parameters."
   ]
  },
  {
   "cell_type": "code",
   "execution_count": 19,
   "metadata": {},
   "outputs": [],
   "source": [
    "import pandas as pd\n",
    "import numpy as np\n",
    "import os\n",
    "\n",
    "from sklearn.model_selection import train_test_split\n",
    "from sklearn.ensemble import RandomForestClassifier\n",
    "from sklearn.neighbors import KNeighborsClassifier\n",
    "from xgboost import XGBClassifier\n",
    "\n",
    "from sklearn.model_selection import GridSearchCV\n",
    "from vecstack import stacking\n",
    "from sklearn.pipeline import Pipeline\n",
    "from sklearn.preprocessing import StandardScaler\n",
    "\n",
    "from sklearn.metrics import accuracy_score , f1_score , precision_score , recall_score\n"
   ]
  },
  {
   "cell_type": "code",
   "execution_count": 20,
   "metadata": {},
   "outputs": [],
   "source": [
    "train = pd.read_csv(r\"../Data/PreparedData/train.csv\")\n",
    "test = pd.read_csv(r\"../Data/PreparedData/test.csv\")"
   ]
  },
  {
   "cell_type": "code",
   "execution_count": 21,
   "metadata": {},
   "outputs": [],
   "source": [
    "## first let's test the model on train data\n",
    "X = train.drop([\"Survived\"] , axis = 1 )\n",
    "y = train[\"Survived\"]\n",
    "x_train_org , x_test_org , y_train_org , y_test_org = train_test_split(X , y , test_size = 0.3 , random_state = 42)"
   ]
  },
  {
   "cell_type": "code",
   "execution_count": 23,
   "metadata": {},
   "outputs": [
    {
     "name": "stdout",
     "output_type": "stream",
     "text": [
      "Fitting 10 folds for each of 2880 candidates, totalling 28800 fits\n"
     ]
    },
    {
     "name": "stderr",
     "output_type": "stream",
     "text": [
      "[Parallel(n_jobs=-1)]: Using backend LokyBackend with 8 concurrent workers.\n",
      "[Parallel(n_jobs=-1)]: Done  16 tasks      | elapsed:    5.8s\n",
      "[Parallel(n_jobs=-1)]: Done 112 tasks      | elapsed:  1.5min\n",
      "[Parallel(n_jobs=-1)]: Done 272 tasks      | elapsed:  3.7min\n",
      "[Parallel(n_jobs=-1)]: Done 496 tasks      | elapsed:  7.1min\n",
      "[Parallel(n_jobs=-1)]: Done 784 tasks      | elapsed: 28.6min\n",
      "[Parallel(n_jobs=-1)]: Done 1136 tasks      | elapsed: 32.3min\n",
      "[Parallel(n_jobs=-1)]: Done 1552 tasks      | elapsed: 37.4min\n",
      "[Parallel(n_jobs=-1)]: Done 2032 tasks      | elapsed: 42.0min\n",
      "[Parallel(n_jobs=-1)]: Done 2576 tasks      | elapsed: 45.8min\n",
      "[Parallel(n_jobs=-1)]: Done 3184 tasks      | elapsed: 49.8min\n",
      "[Parallel(n_jobs=-1)]: Done 3856 tasks      | elapsed: 54.2min\n",
      "[Parallel(n_jobs=-1)]: Done 4592 tasks      | elapsed: 84.6min\n",
      "[Parallel(n_jobs=-1)]: Done 5392 tasks      | elapsed: 89.7min\n",
      "[Parallel(n_jobs=-1)]: Done 6256 tasks      | elapsed: 233.5min\n",
      "[Parallel(n_jobs=-1)]: Done 7184 tasks      | elapsed: 240.2min\n",
      "[Parallel(n_jobs=-1)]: Done 8176 tasks      | elapsed: 247.0min\n",
      "[Parallel(n_jobs=-1)]: Done 9232 tasks      | elapsed: 254.3min\n",
      "[Parallel(n_jobs=-1)]: Done 10352 tasks      | elapsed: 262.5min\n",
      "[Parallel(n_jobs=-1)]: Done 11536 tasks      | elapsed: 270.7min\n",
      "[Parallel(n_jobs=-1)]: Done 12784 tasks      | elapsed: 279.5min\n",
      "[Parallel(n_jobs=-1)]: Done 14096 tasks      | elapsed: 288.4min\n",
      "[Parallel(n_jobs=-1)]: Done 15472 tasks      | elapsed: 292.3min\n",
      "[Parallel(n_jobs=-1)]: Done 16912 tasks      | elapsed: 323.4min\n",
      "[Parallel(n_jobs=-1)]: Done 18416 tasks      | elapsed: 326.0min\n",
      "[Parallel(n_jobs=-1)]: Done 19984 tasks      | elapsed: 328.7min\n",
      "[Parallel(n_jobs=-1)]: Done 21616 tasks      | elapsed: 331.5min\n",
      "[Parallel(n_jobs=-1)]: Done 23312 tasks      | elapsed: 334.3min\n",
      "[Parallel(n_jobs=-1)]: Done 25072 tasks      | elapsed: 337.5min\n",
      "[Parallel(n_jobs=-1)]: Done 26896 tasks      | elapsed: 341.1min\n",
      "[Parallel(n_jobs=-1)]: Done 28784 tasks      | elapsed: 344.8min\n",
      "[Parallel(n_jobs=-1)]: Done 28800 out of 28800 | elapsed: 344.9min finished\n"
     ]
    },
    {
     "data": {
      "text/plain": [
       "GridSearchCV(cv=10,\n",
       "             estimator=RandomForestClassifier(n_jobs=-1, random_state=42),\n",
       "             n_jobs=-1,\n",
       "             param_grid={'criterion': ['entropy', 'giin'],\n",
       "                         'max_depth': range(4, 20),\n",
       "                         'min_samples_leaf': range(1, 10),\n",
       "                         'n_estimators': range(100, 2000, 200)},\n",
       "             verbose=3)"
      ]
     },
     "execution_count": 23,
     "metadata": {},
     "output_type": "execute_result"
    }
   ],
   "source": [
    "RF_params =  {\"criterion\" :[\"entropy\", \"giin\"] , \"n_estimators\" : range(100, 2000 , 200) , \"min_samples_leaf\" : range(1 , 10),\n",
    "         \"max_depth\": range(4 , 20) }\n",
    "\n",
    "RF = RandomForestClassifier( random_state = 42 , n_jobs = -1)\n",
    "\n",
    "RF_grid = GridSearchCV(RF , RF_params , cv = 10 , n_jobs = -1 , verbose = 3)\n",
    "RF_grid.fit(x_train_org , y_train_org)"
   ]
  },
  {
   "cell_type": "code",
   "execution_count": 29,
   "metadata": {},
   "outputs": [
    {
     "data": {
      "text/plain": [
       "0.8410138248847925"
      ]
     },
     "execution_count": 29,
     "metadata": {},
     "output_type": "execute_result"
    }
   ],
   "source": [
    "RF_grid.best_score_"
   ]
  },
  {
   "cell_type": "code",
   "execution_count": 32,
   "metadata": {},
   "outputs": [
    {
     "data": {
      "text/plain": [
       "RandomForestClassifier(criterion='entropy', max_depth=7, min_samples_leaf=6,\n",
       "                       n_jobs=-1, random_state=42)"
      ]
     },
     "execution_count": 32,
     "metadata": {},
     "output_type": "execute_result"
    }
   ],
   "source": [
    "RF_grid.best_estimator_"
   ]
  },
  {
   "cell_type": "code",
   "execution_count": 26,
   "metadata": {},
   "outputs": [],
   "source": [
    "std = StandardScaler()\n",
    "x_train_scl = std.fit_transform(x_train_org)"
   ]
  },
  {
   "cell_type": "code",
   "execution_count": 27,
   "metadata": {},
   "outputs": [
    {
     "name": "stdout",
     "output_type": "stream",
     "text": [
      "Fitting 5 folds for each of 2842 candidates, totalling 14210 fits\n"
     ]
    },
    {
     "name": "stderr",
     "output_type": "stream",
     "text": [
      "[Parallel(n_jobs=-1)]: Using backend LokyBackend with 8 concurrent workers.\n",
      "[Parallel(n_jobs=-1)]: Done  34 tasks      | elapsed:    7.9s\n",
      "[Parallel(n_jobs=-1)]: Done 536 tasks      | elapsed:   10.6s\n",
      "[Parallel(n_jobs=-1)]: Done 1536 tasks      | elapsed:   15.5s\n",
      "[Parallel(n_jobs=-1)]: Done 2936 tasks      | elapsed:   22.0s\n",
      "[Parallel(n_jobs=-1)]: Done 4736 tasks      | elapsed:   30.3s\n",
      "[Parallel(n_jobs=-1)]: Done 6936 tasks      | elapsed:   41.0s\n",
      "[Parallel(n_jobs=-1)]: Done 9536 tasks      | elapsed:   52.9s\n",
      "[Parallel(n_jobs=-1)]: Done 12536 tasks      | elapsed:  1.1min\n",
      "[Parallel(n_jobs=-1)]: Done 14195 out of 14210 | elapsed:  1.2min remaining:    0.0s\n",
      "[Parallel(n_jobs=-1)]: Done 14210 out of 14210 | elapsed:  1.2min finished\n"
     ]
    },
    {
     "data": {
      "text/plain": [
       "({'leaf_size': 16, 'n_neighbors': 12, 'p': 1}, 0.8315483870967743)"
      ]
     },
     "execution_count": 27,
     "metadata": {},
     "output_type": "execute_result"
    }
   ],
   "source": [
    "#List Hyperparameters that we want to tune.\n",
    "leaf_size = list(range(1,50))\n",
    "n_neighbors = list(range(1,30))\n",
    "p=[1,2]\n",
    "#Convert to dictionary\n",
    "knn_params = dict(leaf_size=leaf_size, n_neighbors=n_neighbors, p=p)\n",
    "\n",
    "## create pipeline\n",
    "# knn_pipe = Pipeline([('scaler', StandardScaler()), ('knn', KNeighborsClassifier(n_jobs=-1))])\n",
    "knn_m = KNeighborsClassifier()\n",
    "knn_grid = GridSearchCV(knn_m, knn_params,\n",
    "                        cv=5, n_jobs=-1, verbose=True)\n",
    "\n",
    "\n",
    "knn_grid.fit(x_train_org, y_train_org)\n",
    "\n",
    "knn_grid.best_params_, knn_grid.best_score_"
   ]
  },
  {
   "cell_type": "code",
   "execution_count": 30,
   "metadata": {},
   "outputs": [
    {
     "data": {
      "text/plain": [
       "0.8315483870967743"
      ]
     },
     "execution_count": 30,
     "metadata": {},
     "output_type": "execute_result"
    }
   ],
   "source": [
    "knn_grid.best_score_"
   ]
  },
  {
   "cell_type": "code",
   "execution_count": 31,
   "metadata": {},
   "outputs": [
    {
     "data": {
      "text/plain": [
       "KNeighborsClassifier(leaf_size=16, n_neighbors=12, p=1)"
      ]
     },
     "execution_count": 31,
     "metadata": {},
     "output_type": "execute_result"
    }
   ],
   "source": [
    "knn_grid.best_estimator_"
   ]
  },
  {
   "cell_type": "code",
   "execution_count": 28,
   "metadata": {},
   "outputs": [],
   "source": [
    "# knn_params"
   ]
  },
  {
   "cell_type": "code",
   "execution_count": 34,
   "metadata": {},
   "outputs": [],
   "source": [
    "models = [\n",
    "         KNeighborsClassifier( n_jobs=-1 , leaf_size=16, n_neighbors=12, p=1),\n",
    "         RandomForestClassifier( n_estimators=1000, criterion='entropy', max_depth=7, min_samples_leaf=6,\n",
    "                       n_jobs=-1, random_state=42),\n",
    "         XGBClassifier(random_state=0, n_jobs=-1, learning_rate=0.1, n_estimators=1000, max_depth=10) \n",
    "         ]"
   ]
  },
  {
   "cell_type": "code",
   "execution_count": 35,
   "metadata": {},
   "outputs": [],
   "source": [
    "def Stacking(models , X_train , y_train , X_test):\n",
    "    \"\"\"\n",
    "    This function will return new feature set which is the combination of given model prediction called stacking.\n",
    "        \n",
    "    Parameters\n",
    "    ----------\n",
    "    models : list, \n",
    "        This is list of models we want to stack.\n",
    "        \n",
    "    X_train : DataFrame\n",
    "        Index:\n",
    "            rangeindex\n",
    "        columns:\n",
    "            contains features of data\n",
    "            \n",
    "    y_train:\n",
    "        index:\n",
    "            rangeIndex\n",
    "        columns:\n",
    "            target variable\n",
    "            \n",
    "    X_test:\n",
    "        Test data\n",
    "        \n",
    "    Returns\n",
    "    -------\n",
    "        new train and test set which are the predictions of given models\n",
    "    \"\"\"\n",
    "    S_train, S_test = stacking(models, X_train, y_train, X_test, regression=False,mode='oof_pred_bag', \n",
    "                               needs_proba=False, save_dir=None, metric=accuracy_score, n_folds=4, \n",
    "                               stratified=True,shuffle=True,  random_state=0,  verbose=2)\n",
    "    return S_train , S_test"
   ]
  },
  {
   "cell_type": "code",
   "execution_count": 36,
   "metadata": {},
   "outputs": [
    {
     "name": "stdout",
     "output_type": "stream",
     "text": [
      "task:         [classification]\n",
      "n_classes:    [2]\n",
      "metric:       [accuracy_score]\n",
      "mode:         [oof_pred_bag]\n",
      "n_models:     [3]\n",
      "\n",
      "model  0:     [KNeighborsClassifier]\n",
      "    fold  0:  [0.80128205]\n",
      "    fold  1:  [0.84615385]\n",
      "    fold  2:  [0.80769231]\n",
      "    fold  3:  [0.85806452]\n",
      "    ----\n",
      "    MEAN:     [0.82829818] + [0.02428648]\n",
      "    FULL:     [0.82825040]\n",
      "\n",
      "model  1:     [RandomForestClassifier]\n",
      "    fold  0:  [0.78846154]\n",
      "    fold  1:  [0.87179487]\n",
      "    fold  2:  [0.81410256]\n",
      "    fold  3:  [0.83870968]\n",
      "    ----\n",
      "    MEAN:     [0.82826716] + [0.03077674]\n",
      "    FULL:     [0.82825040]\n",
      "\n",
      "model  2:     [XGBClassifier]\n",
      "    fold  0:  [0.77564103]\n",
      "    fold  1:  [0.85256410]\n",
      "    fold  2:  [0.80769231]\n",
      "    fold  3:  [0.83225806]\n",
      "    ----\n",
      "    MEAN:     [0.81703888] + [0.02870020]\n",
      "    FULL:     [0.81701445]\n",
      "\n"
     ]
    }
   ],
   "source": [
    "S_train , S_test = Stacking(models= models , X_train= x_train_org , y_train=y_train_org , X_test=x_test_org)"
   ]
  },
  {
   "cell_type": "code",
   "execution_count": 37,
   "metadata": {},
   "outputs": [],
   "source": [
    "## evaluate the model"
   ]
  },
  {
   "cell_type": "code",
   "execution_count": 38,
   "metadata": {},
   "outputs": [
    {
     "data": {
      "text/plain": [
       "XGBClassifier(base_score=0.5, booster='gbtree', colsample_bylevel=1,\n",
       "              colsample_bynode=1, colsample_bytree=1, gamma=0, gpu_id=-1,\n",
       "              importance_type='gain', interaction_constraints='',\n",
       "              learning_rate=0.300000012, max_delta_step=0, max_depth=5,\n",
       "              min_child_weight=1, missing=nan, monotone_constraints='()',\n",
       "              n_estimators=1000, n_jobs=-1, num_parallel_tree=1,\n",
       "              random_state=42, reg_alpha=0, reg_lambda=1, scale_pos_weight=1,\n",
       "              subsample=1, tree_method='exact', validate_parameters=1,\n",
       "              verbosity=None)"
      ]
     },
     "execution_count": 38,
     "metadata": {},
     "output_type": "execute_result"
    }
   ],
   "source": [
    "xgb = XGBClassifier(random_state = 42 , n_jobs = -1 , n_estimators = 1000 , max_depth = 5)\n",
    "xgb.fit(S_train , y_train_org)\n",
    "\n",
    "# accuracy_score()"
   ]
  },
  {
   "cell_type": "code",
   "execution_count": 39,
   "metadata": {},
   "outputs": [
    {
     "data": {
      "text/plain": [
       "0.8283582089552238"
      ]
     },
     "execution_count": 39,
     "metadata": {},
     "output_type": "execute_result"
    }
   ],
   "source": [
    "accuracy_score(y_test_org , xgb.predict(S_test))"
   ]
  },
  {
   "cell_type": "code",
   "execution_count": 40,
   "metadata": {},
   "outputs": [
    {
     "data": {
      "text/plain": [
       "0.7722772277227723"
      ]
     },
     "execution_count": 40,
     "metadata": {},
     "output_type": "execute_result"
    }
   ],
   "source": [
    "f1_score(y_test_org , xgb.predict(S_test))"
   ]
  },
  {
   "cell_type": "code",
   "execution_count": 41,
   "metadata": {},
   "outputs": [
    {
     "data": {
      "text/plain": [
       "0.8571428571428571"
      ]
     },
     "execution_count": 41,
     "metadata": {},
     "output_type": "execute_result"
    }
   ],
   "source": [
    "precision_score(y_test_org , xgb.predict(S_test))"
   ]
  },
  {
   "cell_type": "code",
   "execution_count": 42,
   "metadata": {},
   "outputs": [
    {
     "data": {
      "text/plain": [
       "0.7027027027027027"
      ]
     },
     "execution_count": 42,
     "metadata": {},
     "output_type": "execute_result"
    }
   ],
   "source": [
    "recall_score(y_test_org , xgb.predict(S_test))"
   ]
  },
  {
   "cell_type": "code",
   "execution_count": 23,
   "metadata": {},
   "outputs": [],
   "source": [
    "#### we are getting good performances let's try it on test set"
   ]
  },
  {
   "cell_type": "code",
   "execution_count": 43,
   "metadata": {},
   "outputs": [],
   "source": [
    "X_train = train.drop([\"Survived\"] , axis = 1)\n",
    "y_train = train[\"Survived\"]\n",
    "X_test = test"
   ]
  },
  {
   "cell_type": "code",
   "execution_count": 45,
   "metadata": {},
   "outputs": [
    {
     "name": "stdout",
     "output_type": "stream",
     "text": [
      "task:         [classification]\n",
      "n_classes:    [2]\n",
      "metric:       [accuracy_score]\n",
      "mode:         [oof_pred_bag]\n",
      "n_models:     [3]\n",
      "\n",
      "model  0:     [KNeighborsClassifier]\n",
      "    fold  0:  [0.84304933]\n",
      "    fold  1:  [0.84304933]\n",
      "    fold  2:  [0.76681614]\n",
      "    fold  3:  [0.84234234]\n",
      "    ----\n",
      "    MEAN:     [0.82381429] + [0.03290916]\n",
      "    FULL:     [0.82379349]\n",
      "\n",
      "model  1:     [RandomForestClassifier]\n",
      "    fold  0:  [0.86547085]\n",
      "    fold  1:  [0.85201794]\n",
      "    fold  2:  [0.77578475]\n",
      "    fold  3:  [0.81081081]\n",
      "    ----\n",
      "    MEAN:     [0.82602109] + [0.03530992]\n",
      "    FULL:     [0.82603816]\n",
      "\n",
      "model  2:     [XGBClassifier]\n",
      "    fold  0:  [0.84753363]\n",
      "    fold  1:  [0.80717489]\n",
      "    fold  2:  [0.79372197]\n",
      "    fold  3:  [0.83333333]\n",
      "    ----\n",
      "    MEAN:     [0.82044096] + [0.02115490]\n",
      "    FULL:     [0.82042649]\n",
      "\n"
     ]
    }
   ],
   "source": [
    "S_train , S_test = Stacking(models , X_train= X_train , y_train= y_train , X_test = X_test )"
   ]
  },
  {
   "cell_type": "code",
   "execution_count": 46,
   "metadata": {},
   "outputs": [
    {
     "data": {
      "text/plain": [
       "XGBClassifier(base_score=0.5, booster='gbtree', colsample_bylevel=1,\n",
       "              colsample_bynode=1, colsample_bytree=1, gamma=0, gpu_id=-1,\n",
       "              importance_type='gain', interaction_constraints='',\n",
       "              learning_rate=0.300000012, max_delta_step=0, max_depth=5,\n",
       "              min_child_weight=1, missing=nan, monotone_constraints='()',\n",
       "              n_estimators=1000, n_jobs=-1, num_parallel_tree=1,\n",
       "              random_state=42, reg_alpha=0, reg_lambda=1, scale_pos_weight=1,\n",
       "              subsample=1, tree_method='exact', validate_parameters=1,\n",
       "              verbosity=None)"
      ]
     },
     "execution_count": 46,
     "metadata": {},
     "output_type": "execute_result"
    }
   ],
   "source": [
    "xgb = XGBClassifier(random_state = 42 , n_jobs = -1 , n_estimators = 1000 , max_depth = 5)\n",
    "xgb.fit(S_train , y_train)"
   ]
  },
  {
   "cell_type": "code",
   "execution_count": 47,
   "metadata": {},
   "outputs": [],
   "source": [
    "y_pred = xgb.predict(S_test)"
   ]
  },
  {
   "cell_type": "code",
   "execution_count": 48,
   "metadata": {},
   "outputs": [],
   "source": [
    "submit = pd.read_csv(r\"../Data/gender_submission.csv\")"
   ]
  },
  {
   "cell_type": "code",
   "execution_count": 49,
   "metadata": {},
   "outputs": [
    {
     "data": {
      "text/plain": [
       "Index(['PassengerId', 'Survived'], dtype='object')"
      ]
     },
     "execution_count": 49,
     "metadata": {},
     "output_type": "execute_result"
    }
   ],
   "source": [
    "submit.columns"
   ]
  },
  {
   "cell_type": "code",
   "execution_count": 50,
   "metadata": {},
   "outputs": [],
   "source": [
    "submitDf = pd.DataFrame({\"PassengerId\" : submit[\"PassengerId\"] , \"Survived\" : y_pred})"
   ]
  },
  {
   "cell_type": "code",
   "execution_count": 51,
   "metadata": {},
   "outputs": [],
   "source": [
    "submitDf.to_csv(r\"../Data/Predictions/Stacking_v3.csv\" , index = False)"
   ]
  },
  {
   "cell_type": "code",
   "execution_count": null,
   "metadata": {},
   "outputs": [],
   "source": []
  }
 ],
 "metadata": {
  "kernelspec": {
   "display_name": "Python 3",
   "language": "python",
   "name": "python3"
  },
  "language_info": {
   "codemirror_mode": {
    "name": "ipython",
    "version": 3
   },
   "file_extension": ".py",
   "mimetype": "text/x-python",
   "name": "python",
   "nbconvert_exporter": "python",
   "pygments_lexer": "ipython3",
   "version": "3.8.3"
  }
 },
 "nbformat": 4,
 "nbformat_minor": 4
}
