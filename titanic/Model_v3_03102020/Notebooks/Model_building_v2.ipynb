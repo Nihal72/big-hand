{
 "cells": [
  {
   "cell_type": "code",
   "execution_count": 6,
   "metadata": {},
   "outputs": [],
   "source": [
    "import pandas as pd\n",
    "import numpy as np\n",
    "import os\n",
    "\n",
    "from sklearn.model_selection import train_test_split\n",
    "from sklearn.ensemble import RandomForestClassifier\n",
    "from sklearn.neighbors import KNeighborsClassifier\n",
    "from xgboost import XGBClassifier\n",
    "\n",
    "from vecstack import stacking\n",
    "\n",
    "from sklearn.metrics import accuracy_score , f1_score , precision_score , recall_score\n"
   ]
  },
  {
   "cell_type": "code",
   "execution_count": 7,
   "metadata": {},
   "outputs": [],
   "source": [
    "train = pd.read_csv(r\"../Data/PreparedData/train.csv\")\n",
    "test = pd.read_csv(r\"../Data/PreparedData/test.csv\")"
   ]
  },
  {
   "cell_type": "code",
   "execution_count": 9,
   "metadata": {},
   "outputs": [],
   "source": [
    "## first let's test the model on train data\n",
    "X = train.drop([\"Survived\"] , axis = 1 )\n",
    "y = train[\"Survived\"]\n",
    "x_train_org , x_test_org , y_train_org , y_test_org = train_test_split(X , y , test_size = 0.3 , random_state = 42)"
   ]
  },
  {
   "cell_type": "code",
   "execution_count": 11,
   "metadata": {},
   "outputs": [],
   "source": [
    "models = [\n",
    "         KNeighborsClassifier(n_neighbors=5, n_jobs=-1),\n",
    "         RandomForestClassifier(random_state=0, n_jobs=-1, n_estimators=1000, max_depth=3),\n",
    "         XGBClassifier(random_state=0, n_jobs=-1, learning_rate=0.1, n_estimators=1000, max_depth=3) \n",
    "         ]"
   ]
  },
  {
   "cell_type": "code",
   "execution_count": 25,
   "metadata": {},
   "outputs": [],
   "source": [
    "def Stacking(models , X_train , y_train , X_test):\n",
    "    \"\"\"\n",
    "    This function will return new feature set which is the combination of given model prediction called stacking.\n",
    "        \n",
    "    Parameters\n",
    "    ----------\n",
    "    models : list, \n",
    "        This is list of models we want to stack.\n",
    "        \n",
    "    X_train : DataFrame\n",
    "        Index:\n",
    "            rangeindex\n",
    "        columns:\n",
    "            contains features of data\n",
    "            \n",
    "    y_train:\n",
    "        index:\n",
    "            rangeIndex\n",
    "        columns:\n",
    "            target variable\n",
    "            \n",
    "    X_test:\n",
    "        Test data\n",
    "        \n",
    "    Returns\n",
    "    -------\n",
    "        new train and test set which are the predictions of given models\n",
    "    \"\"\"\n",
    "    S_train, S_test = stacking(models, X_train, y_train, X_test, regression=False,mode='oof_pred_bag', \n",
    "                               needs_proba=False, save_dir=None, metric=accuracy_score, n_folds=4, \n",
    "                               stratified=True,shuffle=True,  random_state=0,  verbose=2)\n",
    "    return S_train , S_test"
   ]
  },
  {
   "cell_type": "code",
   "execution_count": 14,
   "metadata": {},
   "outputs": [
    {
     "name": "stdout",
     "output_type": "stream",
     "text": [
      "task:         [classification]\n",
      "n_classes:    [2]\n",
      "metric:       [accuracy_score]\n",
      "mode:         [oof_pred_bag]\n",
      "n_models:     [3]\n",
      "\n",
      "model  0:     [KNeighborsClassifier]\n",
      "    fold  0:  [0.77564103]\n",
      "    fold  1:  [0.83333333]\n",
      "    fold  2:  [0.80128205]\n",
      "    fold  3:  [0.84516129]\n",
      "    ----\n",
      "    MEAN:     [0.81385443] + [0.02728496]\n",
      "    FULL:     [0.81380417]\n",
      "\n",
      "model  1:     [RandomForestClassifier]\n",
      "    fold  0:  [0.80128205]\n",
      "    fold  1:  [0.86538462]\n",
      "    fold  2:  [0.80769231]\n",
      "    fold  3:  [0.82580645]\n",
      "    ----\n",
      "    MEAN:     [0.82504136] + [0.02496827]\n",
      "    FULL:     [0.82504013]\n",
      "\n",
      "model  2:     [XGBClassifier]\n",
      "    fold  0:  [0.77564103]\n",
      "    fold  1:  [0.82051282]\n",
      "    fold  2:  [0.80769231]\n",
      "    fold  3:  [0.81935484]\n",
      "    ----\n",
      "    MEAN:     [0.80580025] + [0.01812005]\n",
      "    FULL:     [0.80577849]\n",
      "\n"
     ]
    }
   ],
   "source": [
    "S_train , S_test = Stacking(models= models , X_train= x_train_org , y_train=y_train_org , X_test=x_test_org)"
   ]
  },
  {
   "cell_type": "code",
   "execution_count": 15,
   "metadata": {},
   "outputs": [],
   "source": [
    "## evaluate the model"
   ]
  },
  {
   "cell_type": "code",
   "execution_count": 17,
   "metadata": {},
   "outputs": [
    {
     "data": {
      "text/plain": [
       "XGBClassifier(base_score=0.5, booster='gbtree', colsample_bylevel=1,\n",
       "              colsample_bynode=1, colsample_bytree=1, gamma=0, gpu_id=-1,\n",
       "              importance_type='gain', interaction_constraints='',\n",
       "              learning_rate=0.300000012, max_delta_step=0, max_depth=5,\n",
       "              min_child_weight=1, missing=nan, monotone_constraints='()',\n",
       "              n_estimators=1000, n_jobs=-1, num_parallel_tree=1,\n",
       "              random_state=42, reg_alpha=0, reg_lambda=1, scale_pos_weight=1,\n",
       "              subsample=1, tree_method='exact', validate_parameters=1,\n",
       "              verbosity=None)"
      ]
     },
     "execution_count": 17,
     "metadata": {},
     "output_type": "execute_result"
    }
   ],
   "source": [
    "xgb = XGBClassifier(random_state = 42 , n_jobs = -1 , n_estimators = 1000 , max_depth = 5)\n",
    "xgb.fit(S_train , y_train_org)\n",
    "\n",
    "# accuracy_score()"
   ]
  },
  {
   "cell_type": "code",
   "execution_count": 18,
   "metadata": {},
   "outputs": [
    {
     "data": {
      "text/plain": [
       "0.835820895522388"
      ]
     },
     "execution_count": 18,
     "metadata": {},
     "output_type": "execute_result"
    }
   ],
   "source": [
    "accuracy_score(y_test_org , xgb.predict(S_test))"
   ]
  },
  {
   "cell_type": "code",
   "execution_count": 20,
   "metadata": {},
   "outputs": [
    {
     "data": {
      "text/plain": [
       "0.7962962962962963"
      ]
     },
     "execution_count": 20,
     "metadata": {},
     "output_type": "execute_result"
    }
   ],
   "source": [
    "f1_score(y_test_org , xgb.predict(S_test))"
   ]
  },
  {
   "cell_type": "code",
   "execution_count": 21,
   "metadata": {},
   "outputs": [
    {
     "data": {
      "text/plain": [
       "0.819047619047619"
      ]
     },
     "execution_count": 21,
     "metadata": {},
     "output_type": "execute_result"
    }
   ],
   "source": [
    "precision_score(y_test_org , xgb.predict(S_test))"
   ]
  },
  {
   "cell_type": "code",
   "execution_count": 22,
   "metadata": {},
   "outputs": [
    {
     "data": {
      "text/plain": [
       "0.7747747747747747"
      ]
     },
     "execution_count": 22,
     "metadata": {},
     "output_type": "execute_result"
    }
   ],
   "source": [
    "recall_score(y_test_org , xgb.predict(S_test))"
   ]
  },
  {
   "cell_type": "code",
   "execution_count": 23,
   "metadata": {},
   "outputs": [],
   "source": [
    "#### we are getting good performances let's try it on test set"
   ]
  },
  {
   "cell_type": "code",
   "execution_count": 24,
   "metadata": {},
   "outputs": [],
   "source": [
    "X_train = train.drop([\"Survived\"] , axis = 1)\n",
    "y_train = train[\"Survived\"]\n",
    "X_test = test"
   ]
  },
  {
   "cell_type": "code",
   "execution_count": 28,
   "metadata": {},
   "outputs": [
    {
     "name": "stdout",
     "output_type": "stream",
     "text": [
      "task:         [classification]\n",
      "n_classes:    [2]\n",
      "metric:       [accuracy_score]\n",
      "mode:         [oof_pred_bag]\n",
      "n_models:     [3]\n",
      "\n",
      "model  0:     [KNeighborsClassifier]\n",
      "    fold  0:  [0.82959641]\n",
      "    fold  1:  [0.83408072]\n",
      "    fold  2:  [0.78475336]\n",
      "    fold  3:  [0.83333333]\n",
      "    ----\n",
      "    MEAN:     [0.82044096] + [0.02067416]\n",
      "    FULL:     [0.82042649]\n",
      "\n",
      "model  1:     [RandomForestClassifier]\n",
      "    fold  0:  [0.85650224]\n",
      "    fold  1:  [0.86995516]\n",
      "    fold  2:  [0.75336323]\n",
      "    fold  3:  [0.80630631]\n",
      "    ----\n",
      "    MEAN:     [0.82153173] + [0.04595248]\n",
      "    FULL:     [0.82154882]\n",
      "\n",
      "model  2:     [XGBClassifier]\n",
      "    fold  0:  [0.85201794]\n",
      "    fold  1:  [0.81614350]\n",
      "    fold  2:  [0.78026906]\n",
      "    fold  3:  [0.81081081]\n",
      "    ----\n",
      "    MEAN:     [0.81481033] + [0.02547194]\n",
      "    FULL:     [0.81481481]\n",
      "\n"
     ]
    }
   ],
   "source": [
    "S_train , S_test = Stacking(models , X_train= X_train , y_train= y_train , X_test = X_test )"
   ]
  },
  {
   "cell_type": "code",
   "execution_count": 29,
   "metadata": {},
   "outputs": [
    {
     "data": {
      "text/plain": [
       "XGBClassifier(base_score=0.5, booster='gbtree', colsample_bylevel=1,\n",
       "              colsample_bynode=1, colsample_bytree=1, gamma=0, gpu_id=-1,\n",
       "              importance_type='gain', interaction_constraints='',\n",
       "              learning_rate=0.300000012, max_delta_step=0, max_depth=5,\n",
       "              min_child_weight=1, missing=nan, monotone_constraints='()',\n",
       "              n_estimators=1000, n_jobs=-1, num_parallel_tree=1,\n",
       "              random_state=42, reg_alpha=0, reg_lambda=1, scale_pos_weight=1,\n",
       "              subsample=1, tree_method='exact', validate_parameters=1,\n",
       "              verbosity=None)"
      ]
     },
     "execution_count": 29,
     "metadata": {},
     "output_type": "execute_result"
    }
   ],
   "source": [
    "xgb = XGBClassifier(random_state = 42 , n_jobs = -1 , n_estimators = 1000 , max_depth = 5)\n",
    "xgb.fit(S_train , y_train)"
   ]
  },
  {
   "cell_type": "code",
   "execution_count": 30,
   "metadata": {},
   "outputs": [],
   "source": [
    "y_pred = xgb.predict(S_test)"
   ]
  },
  {
   "cell_type": "code",
   "execution_count": 31,
   "metadata": {},
   "outputs": [],
   "source": [
    "submit = pd.read_csv(r\"../Data/gender_submission.csv\")"
   ]
  },
  {
   "cell_type": "code",
   "execution_count": 32,
   "metadata": {},
   "outputs": [
    {
     "data": {
      "text/plain": [
       "Index(['PassengerId', 'Survived'], dtype='object')"
      ]
     },
     "execution_count": 32,
     "metadata": {},
     "output_type": "execute_result"
    }
   ],
   "source": [
    "submit.columns"
   ]
  },
  {
   "cell_type": "code",
   "execution_count": 33,
   "metadata": {},
   "outputs": [],
   "source": [
    "submitDf = pd.DataFrame({\"PassengerId\" : submit[\"PassengerId\"] , \"Survived\" : y_pred})"
   ]
  },
  {
   "cell_type": "code",
   "execution_count": 34,
   "metadata": {},
   "outputs": [],
   "source": [
    "submitDf.to_csv(r\"../Data/Predictions/Stacking_v2.csv\" , index = False)"
   ]
  }
 ],
 "metadata": {
  "kernelspec": {
   "display_name": "Python 3",
   "language": "python",
   "name": "python3"
  },
  "language_info": {
   "codemirror_mode": {
    "name": "ipython",
    "version": 3
   },
   "file_extension": ".py",
   "mimetype": "text/x-python",
   "name": "python",
   "nbconvert_exporter": "python",
   "pygments_lexer": "ipython3",
   "version": "3.8.3"
  }
 },
 "nbformat": 4,
 "nbformat_minor": 4
}
